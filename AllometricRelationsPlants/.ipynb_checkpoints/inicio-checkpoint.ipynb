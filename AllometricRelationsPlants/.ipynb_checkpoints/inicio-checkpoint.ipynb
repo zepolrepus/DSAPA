{
 "cells": [
  {
   "cell_type": "markdown",
   "id": "c0744f49-efb7-4a23-adb4-a849c28b7a6e",
   "metadata": {},
   "source": [
    "# Allometric relationship between population density, body mass and metabolic activity in Plants\n",
    "\n",
    "http://wiki.stat.ucla.edu/socr/index.php/SOCR_Data_Dinov_032708_AllometricPlanRels"
   ]
  },
  {
   "cell_type": "code",
   "execution_count": 60,
   "id": "8e161616-d016-4e5f-9a20-4129fcc276ec",
   "metadata": {},
   "outputs": [],
   "source": [
    "library(xml2)\n",
    "library(tidyverse)\n",
    "library(rvest)\n",
    "library(FactoMineR)\n",
    "library(factoextra)"
   ]
  },
  {
   "cell_type": "code",
   "execution_count": 61,
   "id": "9f4c70e0-ca6e-4659-a936-29e4bca54e61",
   "metadata": {},
   "outputs": [
    {
     "data": {
      "text/plain": [
       "{xml_nodeset (1)}\n",
       "[1] <div id=\"content\">\\n\\t\\t<a name=\"top\" id=\"top\"></a>\\n\\t\\t\\t\\t<h1 id=\"firs ..."
      ]
     },
     "metadata": {},
     "output_type": "display_data"
    }
   ],
   "source": [
    "wiki_url <- read_html('http://wiki.stat.ucla.edu/socr/index.php/SOCR_Data_Dinov_032708_AllometricPlanRels')\n",
    "html_nodes(wiki_url, '#content')"
   ]
  },
  {
   "cell_type": "code",
   "execution_count": 62,
   "id": "5ca9461d-4e34-4df2-bcba-613bc2f00188",
   "metadata": {},
   "outputs": [
    {
     "data": {
      "text/plain": [
       "{xml_nodeset (11)}\n",
       " [1] <span class=\"toctext\">SOCR Data - Allometric relationship between popula ...\n",
       " [2] <span class=\"toctext\">Complete Data</span>\n",
       " [3] <span class=\"toctext\">Data Description</span>\n",
       " [4] <span class=\"toctext\">Allometric Relations in Plants</span>\n",
       " [5] <span class=\"toctext\">Boreal/temperate Larix forest</span>\n",
       " [6] <span class=\"toctext\">Boreal/alpine Picea-Abies forest</span>\n",
       " [7] <span class=\"toctext\">Boreal Pinus sylvestris var. mongolica forest</span>\n",
       " [8] <span class=\"toctext\">Temperate Pinus tabulaeformis forest</span>\n",
       " [9] <span class=\"toctext\">Temperate mixed coniferous-broadleaved forest</span>\n",
       "[10] <span class=\"toctext\">Temperate typical deciduous broadleaved forest</span>\n",
       "[11] <span class=\"toctext\">Temperate/subtropical montane Populus-Betula decid ..."
      ]
     },
     "metadata": {},
     "output_type": "display_data"
    },
    {
     "data": {
      "text/html": [
       "<style>\n",
       ".list-inline {list-style: none; margin:0; padding: 0}\n",
       ".list-inline>li {display: inline-block}\n",
       ".list-inline>li:not(:last-child)::after {content: \"\\00b7\"; padding: 0 .5ex}\n",
       "</style>\n",
       "<ol class=list-inline><li>'Boreal/temperate Larix forest'</li><li>'Boreal/alpine Picea-Abies forest'</li><li>'Boreal Pinus sylvestris var. mongolica forest'</li><li>'Temperate Pinus tabulaeformis forest'</li><li>'Temperate mixed coniferous-broadleaved forest'</li><li>'Temperate typical deciduous broadleaved forest'</li><li>'Temperate/subtropical montane Populus-Betula deciduous forest'</li></ol>\n"
      ],
      "text/latex": [
       "\\begin{enumerate*}\n",
       "\\item 'Boreal/temperate Larix forest'\n",
       "\\item 'Boreal/alpine Picea-Abies forest'\n",
       "\\item 'Boreal Pinus sylvestris var. mongolica forest'\n",
       "\\item 'Temperate Pinus tabulaeformis forest'\n",
       "\\item 'Temperate mixed coniferous-broadleaved forest'\n",
       "\\item 'Temperate typical deciduous broadleaved forest'\n",
       "\\item 'Temperate/subtropical montane Populus-Betula deciduous forest'\n",
       "\\end{enumerate*}\n"
      ],
      "text/markdown": [
       "1. 'Boreal/temperate Larix forest'\n",
       "2. 'Boreal/alpine Picea-Abies forest'\n",
       "3. 'Boreal Pinus sylvestris var. mongolica forest'\n",
       "4. 'Temperate Pinus tabulaeformis forest'\n",
       "5. 'Temperate mixed coniferous-broadleaved forest'\n",
       "6. 'Temperate typical deciduous broadleaved forest'\n",
       "7. 'Temperate/subtropical montane Populus-Betula deciduous forest'\n",
       "\n",
       "\n"
      ],
      "text/plain": [
       "[1] \"Boreal/temperate Larix forest\"                                \n",
       "[2] \"Boreal/alpine Picea-Abies forest\"                             \n",
       "[3] \"Boreal Pinus sylvestris var. mongolica forest\"                \n",
       "[4] \"Temperate Pinus tabulaeformis forest\"                         \n",
       "[5] \"Temperate mixed coniferous-broadleaved forest\"                \n",
       "[6] \"Temperate typical deciduous broadleaved forest\"               \n",
       "[7] \"Temperate/subtropical montane Populus-Betula deciduous forest\""
      ]
     },
     "metadata": {},
     "output_type": "display_data"
    }
   ],
   "source": [
    "html_nodes(wiki_url, '.toctext')\n",
    "forests <- html_text(html_nodes(wiki_url, '.toctext'))[5:11]\n",
    "\n",
    "forests\n"
   ]
  },
  {
   "cell_type": "code",
   "execution_count": 65,
   "id": "d78df6d6-eede-4173-8373-51817917e6b0",
   "metadata": {},
   "outputs": [
    {
     "data": {
      "text/plain": [
       "{xml_nodeset (9)}\n",
       "[1] <table id=\"toc\" class=\"toc\" summary=\"Contents\"><tr><td>\\n<div id=\"toctitl ...\n",
       "[2] <table class=\"wikitable\">\\n<tr>\\n<th>  Province/Sites </th>\\n<th> Alt.(m) ...\n",
       "[3] <table class=\"wikitable\">\\n<tr>\\n<th> Province/Sites </th>\\n<th> Alt.(m)  ...\n",
       "[4] <table class=\"wikitable\">\\n<tr>\\n<th> Province/Sites </th>\\n<th> Alt.(m)  ...\n",
       "[5] <table class=\"wikitable\">\\n<tr>\\n<th> Province/Sites </th>\\n<th> Alt.(m)  ...\n",
       "[6] <table class=\"wikitable\">\\n<tr>\\n<th> Province/Sites</th>\\n<th> Alt.(m)</ ...\n",
       "[7] <table class=\"wikitable\">\\n<tr>\\n<th> Province/Sites </th>\\n<th> Alt.(m)  ...\n",
       "[8] <table class=\"wikitable\">\\n<tr>\\n<th> Province/Sites</th>\\n<th> Alt.(m)</ ...\n",
       "[9] <table style=\"text-align: left; width: 535px; height: 226px\" cellspacing= ..."
      ]
     },
     "metadata": {},
     "output_type": "display_data"
    }
   ],
   "source": [
    "html_nodes(wiki_url, 'table')"
   ]
  },
  {
   "cell_type": "code",
   "execution_count": 74,
   "id": "4cfbbfd1-4ba6-4f9b-bddf-631cf185bb36",
   "metadata": {},
   "outputs": [
    {
     "data": {
      "text/html": [
       "<table class=\"dataframe\">\n",
       "<caption>A tibble: 6 × 9</caption>\n",
       "<thead>\n",
       "\t<tr><th scope=col>Province</th><th scope=col>Alt</th><th scope=col>Long</th><th scope=col>Lat</th><th scope=col>Born</th><th scope=col>L</th><th scope=col>M</th><th scope=col>D</th><th scope=col>Forest</th></tr>\n",
       "\t<tr><th scope=col>&lt;chr&gt;</th><th scope=col>&lt;int&gt;</th><th scope=col>&lt;dbl&gt;</th><th scope=col>&lt;dbl&gt;</th><th scope=col>&lt;chr&gt;</th><th scope=col>&lt;dbl&gt;</th><th scope=col>&lt;dbl&gt;</th><th scope=col>&lt;dbl&gt;</th><th scope=col>&lt;chr&gt;</th></tr>\n",
       "</thead>\n",
       "<tbody>\n",
       "\t<tr><td>Heilongjiang</td><td>800</td><td>129.4</td><td>44.3</td><td>natural</td><td>17538.071</td><td>610989.85</td><td>0.0394</td><td>Boreal/temperate Larix forest</td></tr>\n",
       "\t<tr><td>Heilongjiang</td><td>550</td><td>124.7</td><td>52.3</td><td>natural</td><td> 9312.715</td><td>298384.88</td><td>0.0291</td><td>Boreal/temperate Larix forest</td></tr>\n",
       "\t<tr><td>Heilongjiang</td><td>441</td><td>126.6</td><td>51.7</td><td>natural</td><td> 2570.175</td><td> 82175.44</td><td>0.1140</td><td>Boreal/temperate Larix forest</td></tr>\n",
       "\t<tr><td>Heilongjiang</td><td>590</td><td>131.8</td><td>46.5</td><td>natural</td><td>13939.394</td><td>422030.30</td><td>0.0330</td><td>Boreal/temperate Larix forest</td></tr>\n",
       "\t<tr><td>Heilongjiang</td><td>800</td><td>130.2</td><td>44.1</td><td>natural</td><td>14375.000</td><td>450643.38</td><td>0.0544</td><td>Boreal/temperate Larix forest</td></tr>\n",
       "\t<tr><td>Heilongjiang</td><td>590</td><td>125.2</td><td>51.4</td><td>natural</td><td> 9016.667</td><td>318266.67</td><td>0.0600</td><td>Boreal/temperate Larix forest</td></tr>\n",
       "</tbody>\n",
       "</table>\n"
      ],
      "text/latex": [
       "A tibble: 6 × 9\n",
       "\\begin{tabular}{lllllllll}\n",
       " Province & Alt & Long & Lat & Born & L & M & D & Forest\\\\\n",
       " <chr> & <int> & <dbl> & <dbl> & <chr> & <dbl> & <dbl> & <dbl> & <chr>\\\\\n",
       "\\hline\n",
       "\t Heilongjiang & 800 & 129.4 & 44.3 & natural & 17538.071 & 610989.85 & 0.0394 & Boreal/temperate Larix forest\\\\\n",
       "\t Heilongjiang & 550 & 124.7 & 52.3 & natural &  9312.715 & 298384.88 & 0.0291 & Boreal/temperate Larix forest\\\\\n",
       "\t Heilongjiang & 441 & 126.6 & 51.7 & natural &  2570.175 &  82175.44 & 0.1140 & Boreal/temperate Larix forest\\\\\n",
       "\t Heilongjiang & 590 & 131.8 & 46.5 & natural & 13939.394 & 422030.30 & 0.0330 & Boreal/temperate Larix forest\\\\\n",
       "\t Heilongjiang & 800 & 130.2 & 44.1 & natural & 14375.000 & 450643.38 & 0.0544 & Boreal/temperate Larix forest\\\\\n",
       "\t Heilongjiang & 590 & 125.2 & 51.4 & natural &  9016.667 & 318266.67 & 0.0600 & Boreal/temperate Larix forest\\\\\n",
       "\\end{tabular}\n"
      ],
      "text/markdown": [
       "\n",
       "A tibble: 6 × 9\n",
       "\n",
       "| Province &lt;chr&gt; | Alt &lt;int&gt; | Long &lt;dbl&gt; | Lat &lt;dbl&gt; | Born &lt;chr&gt; | L &lt;dbl&gt; | M &lt;dbl&gt; | D &lt;dbl&gt; | Forest &lt;chr&gt; |\n",
       "|---|---|---|---|---|---|---|---|---|\n",
       "| Heilongjiang | 800 | 129.4 | 44.3 | natural | 17538.071 | 610989.85 | 0.0394 | Boreal/temperate Larix forest |\n",
       "| Heilongjiang | 550 | 124.7 | 52.3 | natural |  9312.715 | 298384.88 | 0.0291 | Boreal/temperate Larix forest |\n",
       "| Heilongjiang | 441 | 126.6 | 51.7 | natural |  2570.175 |  82175.44 | 0.1140 | Boreal/temperate Larix forest |\n",
       "| Heilongjiang | 590 | 131.8 | 46.5 | natural | 13939.394 | 422030.30 | 0.0330 | Boreal/temperate Larix forest |\n",
       "| Heilongjiang | 800 | 130.2 | 44.1 | natural | 14375.000 | 450643.38 | 0.0544 | Boreal/temperate Larix forest |\n",
       "| Heilongjiang | 590 | 125.2 | 51.4 | natural |  9016.667 | 318266.67 | 0.0600 | Boreal/temperate Larix forest |\n",
       "\n"
      ],
      "text/plain": [
       "  Province     Alt Long  Lat  Born    L         M         D     \n",
       "1 Heilongjiang 800 129.4 44.3 natural 17538.071 610989.85 0.0394\n",
       "2 Heilongjiang 550 124.7 52.3 natural  9312.715 298384.88 0.0291\n",
       "3 Heilongjiang 441 126.6 51.7 natural  2570.175  82175.44 0.1140\n",
       "4 Heilongjiang 590 131.8 46.5 natural 13939.394 422030.30 0.0330\n",
       "5 Heilongjiang 800 130.2 44.1 natural 14375.000 450643.38 0.0544\n",
       "6 Heilongjiang 590 125.2 51.4 natural  9016.667 318266.67 0.0600\n",
       "  Forest                       \n",
       "1 Boreal/temperate Larix forest\n",
       "2 Boreal/temperate Larix forest\n",
       "3 Boreal/temperate Larix forest\n",
       "4 Boreal/temperate Larix forest\n",
       "5 Boreal/temperate Larix forest\n",
       "6 Boreal/temperate Larix forest"
      ]
     },
     "metadata": {},
     "output_type": "display_data"
    },
    {
     "data": {
      "text/plain": [
       "   Province              Alt            Long            Lat       \n",
       " Length:694         Min.   : 150   Min.   : 81.1   Min.   :25.75  \n",
       " Class :character   1st Qu.:1150   1st Qu.:105.0   1st Qu.:34.34  \n",
       " Mode  :character   Median :1620   Median :111.8   Median :37.05  \n",
       "                    Mean   :1789   Mean   :111.8   Mean   :37.90  \n",
       "                    3rd Qu.:2248   3rd Qu.:113.6   3rd Qu.:40.70  \n",
       "                    Max.   :4240   Max.   :134.0   Max.   :53.00  \n",
       "                                                                  \n",
       "     Born                 L                  M                 D         \n",
       " Length:694         Min.   :   143.2   Min.   :   3841   Min.   :0.0125  \n",
       " Class :character   1st Qu.:  3621.0   1st Qu.:  60361   1st Qu.:0.0544  \n",
       " Mode  :character   Median :  6903.1   Median : 111314   Median :0.0824  \n",
       "                    Mean   :  9530.5   Mean   : 240227   Mean   :0.1227  \n",
       "                    3rd Qu.: 13308.2   3rd Qu.: 289687   3rd Qu.:0.1361  \n",
       "                    Max.   :225116.3   Max.   :9107791   Max.   :2.0535  \n",
       "                                                         NA's   :1       \n",
       "    Forest         \n",
       " Length:694        \n",
       " Class :character  \n",
       " Mode  :character  \n",
       "                   \n",
       "                   \n",
       "                   \n",
       "                   "
      ]
     },
     "metadata": {},
     "output_type": "display_data"
    }
   ],
   "source": [
    "## Tomar los datos de las tablas [2 -> 8]\n",
    "pd_data <- data.frame()\n",
    "\n",
    "\n",
    "for (i in c(2:8)) {\n",
    "    table <- html_table(html_nodes(wiki_url, 'table')[[i]])\n",
    "    table$Forest <- forests[i-1]\n",
    "    pd_data <- rbind(pd_data, table)\n",
    "}\n",
    "\n",
    "names(pd_data) <- c('Province', 'Alt', 'Long', 'Lat', 'Born', 'L', 'M', 'D', 'Forest')\n",
    "head(pd_data); summary(pd_data)\n",
    "\n"
   ]
  },
  {
   "cell_type": "code",
   "execution_count": 75,
   "id": "528e52b7-eae1-470a-bfac-8c3bc1738d8a",
   "metadata": {},
   "outputs": [
    {
     "data": {
      "text/html": [
       "<table class=\"dataframe\">\n",
       "<caption>A tibble: 6 × 9</caption>\n",
       "<thead>\n",
       "\t<tr><th scope=col>Province</th><th scope=col>Alt</th><th scope=col>Long</th><th scope=col>Lat</th><th scope=col>Born</th><th scope=col>L</th><th scope=col>M</th><th scope=col>D</th><th scope=col>Forest</th></tr>\n",
       "\t<tr><th scope=col>&lt;fct&gt;</th><th scope=col>&lt;int&gt;</th><th scope=col>&lt;dbl&gt;</th><th scope=col>&lt;dbl&gt;</th><th scope=col>&lt;fct&gt;</th><th scope=col>&lt;dbl&gt;</th><th scope=col>&lt;dbl&gt;</th><th scope=col>&lt;dbl&gt;</th><th scope=col>&lt;fct&gt;</th></tr>\n",
       "</thead>\n",
       "<tbody>\n",
       "\t<tr><td>Heilongjiang</td><td>800</td><td>129.4</td><td>44.3</td><td>natural</td><td>17538.071</td><td>610989.85</td><td>0.0394</td><td>Larix</td></tr>\n",
       "\t<tr><td>Heilongjiang</td><td>550</td><td>124.7</td><td>52.3</td><td>natural</td><td> 9312.715</td><td>298384.88</td><td>0.0291</td><td>Larix</td></tr>\n",
       "\t<tr><td>Heilongjiang</td><td>441</td><td>126.6</td><td>51.7</td><td>natural</td><td> 2570.175</td><td> 82175.44</td><td>0.1140</td><td>Larix</td></tr>\n",
       "\t<tr><td>Heilongjiang</td><td>590</td><td>131.8</td><td>46.5</td><td>natural</td><td>13939.394</td><td>422030.30</td><td>0.0330</td><td>Larix</td></tr>\n",
       "\t<tr><td>Heilongjiang</td><td>800</td><td>130.2</td><td>44.1</td><td>natural</td><td>14375.000</td><td>450643.38</td><td>0.0544</td><td>Larix</td></tr>\n",
       "\t<tr><td>Heilongjiang</td><td>590</td><td>125.2</td><td>51.4</td><td>natural</td><td> 9016.667</td><td>318266.67</td><td>0.0600</td><td>Larix</td></tr>\n",
       "</tbody>\n",
       "</table>\n"
      ],
      "text/latex": [
       "A tibble: 6 × 9\n",
       "\\begin{tabular}{lllllllll}\n",
       " Province & Alt & Long & Lat & Born & L & M & D & Forest\\\\\n",
       " <fct> & <int> & <dbl> & <dbl> & <fct> & <dbl> & <dbl> & <dbl> & <fct>\\\\\n",
       "\\hline\n",
       "\t Heilongjiang & 800 & 129.4 & 44.3 & natural & 17538.071 & 610989.85 & 0.0394 & Larix\\\\\n",
       "\t Heilongjiang & 550 & 124.7 & 52.3 & natural &  9312.715 & 298384.88 & 0.0291 & Larix\\\\\n",
       "\t Heilongjiang & 441 & 126.6 & 51.7 & natural &  2570.175 &  82175.44 & 0.1140 & Larix\\\\\n",
       "\t Heilongjiang & 590 & 131.8 & 46.5 & natural & 13939.394 & 422030.30 & 0.0330 & Larix\\\\\n",
       "\t Heilongjiang & 800 & 130.2 & 44.1 & natural & 14375.000 & 450643.38 & 0.0544 & Larix\\\\\n",
       "\t Heilongjiang & 590 & 125.2 & 51.4 & natural &  9016.667 & 318266.67 & 0.0600 & Larix\\\\\n",
       "\\end{tabular}\n"
      ],
      "text/markdown": [
       "\n",
       "A tibble: 6 × 9\n",
       "\n",
       "| Province &lt;fct&gt; | Alt &lt;int&gt; | Long &lt;dbl&gt; | Lat &lt;dbl&gt; | Born &lt;fct&gt; | L &lt;dbl&gt; | M &lt;dbl&gt; | D &lt;dbl&gt; | Forest &lt;fct&gt; |\n",
       "|---|---|---|---|---|---|---|---|---|\n",
       "| Heilongjiang | 800 | 129.4 | 44.3 | natural | 17538.071 | 610989.85 | 0.0394 | Larix |\n",
       "| Heilongjiang | 550 | 124.7 | 52.3 | natural |  9312.715 | 298384.88 | 0.0291 | Larix |\n",
       "| Heilongjiang | 441 | 126.6 | 51.7 | natural |  2570.175 |  82175.44 | 0.1140 | Larix |\n",
       "| Heilongjiang | 590 | 131.8 | 46.5 | natural | 13939.394 | 422030.30 | 0.0330 | Larix |\n",
       "| Heilongjiang | 800 | 130.2 | 44.1 | natural | 14375.000 | 450643.38 | 0.0544 | Larix |\n",
       "| Heilongjiang | 590 | 125.2 | 51.4 | natural |  9016.667 | 318266.67 | 0.0600 | Larix |\n",
       "\n"
      ],
      "text/plain": [
       "  Province     Alt Long  Lat  Born    L         M         D      Forest\n",
       "1 Heilongjiang 800 129.4 44.3 natural 17538.071 610989.85 0.0394 Larix \n",
       "2 Heilongjiang 550 124.7 52.3 natural  9312.715 298384.88 0.0291 Larix \n",
       "3 Heilongjiang 441 126.6 51.7 natural  2570.175  82175.44 0.1140 Larix \n",
       "4 Heilongjiang 590 131.8 46.5 natural 13939.394 422030.30 0.0330 Larix \n",
       "5 Heilongjiang 800 130.2 44.1 natural 14375.000 450643.38 0.0544 Larix \n",
       "6 Heilongjiang 590 125.2 51.4 natural  9016.667 318266.67 0.0600 Larix "
      ]
     },
     "metadata": {},
     "output_type": "display_data"
    }
   ],
   "source": [
    "\n",
    "pd_data[pd_data$Forest == 'Boreal Pinus sylvestris var. mongolica forest', c('Forest')] <- 'Pinus sylvestris'\n",
    "pd_data[pd_data$Forest == 'Boreal/alpine Picea-Abies forest', c('Forest')] <- 'Picea-Abies'\n",
    "pd_data[pd_data$Forest == 'Boreal/temperate Larix forest', c('Forest')] <- 'Larix'\n",
    "pd_data[pd_data$Forest == 'Temperate mixed coniferous-broadleaved forest', c('Forest')] <- 'Coniferous'\n",
    "pd_data[pd_data$Forest == 'Temperate Pinus tabulaeformis forest', c('Forest')] <- 'Pinus tabulaeformis'\n",
    "pd_data[pd_data$Forest == 'Temperate typical deciduous broadleaved forest', c('Forest')] <- 'Broadleaved'\n",
    "pd_data[pd_data$Forest == 'Temperate/subtropical montane Populus-Betula deciduous forest', c('Forest')] <- 'Populus-Betula'\n",
    "\n",
    "pd_data$Province <- factor(pd_data$Province)\n",
    "pd_data$Born <- factor(pd_data$Born)\n",
    "pd_data$Forest <- factor(pd_data$Forest)\n",
    "head(pd_data)"
   ]
  },
  {
   "cell_type": "code",
   "execution_count": null,
   "id": "7db6a280-3ade-4c0d-b8db-24d41a82a681",
   "metadata": {},
   "outputs": [],
   "source": []
  },
  {
   "cell_type": "code",
   "execution_count": null,
   "id": "ad8b2bd1-ce34-436f-92d7-6062028b2b0d",
   "metadata": {},
   "outputs": [],
   "source": []
  }
 ],
 "metadata": {
  "kernelspec": {
   "display_name": "R",
   "language": "R",
   "name": "ir"
  },
  "language_info": {
   "codemirror_mode": "r",
   "file_extension": ".r",
   "mimetype": "text/x-r-source",
   "name": "R",
   "pygments_lexer": "r",
   "version": "4.2.3"
  }
 },
 "nbformat": 4,
 "nbformat_minor": 5
}
